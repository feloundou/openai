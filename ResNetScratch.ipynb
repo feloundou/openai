{
 "cells": [
  {
   "cell_type": "markdown",
   "metadata": {},
   "source": [
    "This notebook will walk through (my attempts at) an implementation of convolutional neural nets for image classification, mostly emphasizing ResNet. For our purposes, I will use the CIFAR-10 dataset."
   ]
  },
  {
   "cell_type": "code",
   "execution_count": 1,
   "metadata": {},
   "outputs": [],
   "source": [
    "# Author: Tyna Eloundou\n",
    "# Package import\n",
    "\n",
    "# Ordinary Python\n",
    "import matplotlib.pyplot as plt\n",
    "import numpy as np\n",
    "\n",
    "# PyTorch\n",
    "import torch\n",
    "import torchvision\n",
    "import torchvision.transforms as transforms\n",
    "\n",
    "# CNN Libraries\n",
    "import torch.nn as nn\n",
    "import torch.nn.functional as F\n",
    "\n",
    "import torch.optim as optim\n",
    "from torch.optim.lr_scheduler import _LRScheduler, Optimizer\n"
   ]
  },
  {
   "cell_type": "code",
   "execution_count": 2,
   "metadata": {},
   "outputs": [],
   "source": [
    "# from tqdm import tqdm_notebook as tqdm\n",
    "# Please use `tqdm.notebook.tqdm` instead of `tqdm.tqdm_notebook`\n",
    "from tqdm.notebook import tqdm"
   ]
  },
  {
   "cell_type": "code",
   "execution_count": null,
   "metadata": {},
   "outputs": [],
   "source": []
  },
  {
   "cell_type": "markdown",
   "metadata": {},
   "source": [
    "Here we set the path variables/objects. Make sure to make these relative to current directory, for porting back and forth from GPU."
   ]
  },
  {
   "cell_type": "code",
   "execution_count": 3,
   "metadata": {},
   "outputs": [],
   "source": [
    "\n",
    "\"\"\"\n",
    "Define Paths\n",
    "\"\"\"\n",
    "\n",
    "PATH = './cifar10_resnet.pth'\n",
    "\n",
    "\n",
    "# DATA_PATH=Path('./data/')\n",
    "# DATA_PATH.mkdir(exist_ok=True)\n",
    "\n",
    "# PATH=Path('./data/tmp/')\n",
    "# PATH.mkdir(exist_ok=True)\n",
    "\n",
    "# model_state_dict = None\n",
    "\n",
    "\n"
   ]
  },
  {
   "cell_type": "code",
   "execution_count": 4,
   "metadata": {},
   "outputs": [],
   "source": [
    "args = {\n",
    "    \"train_size\": -1,\n",
    "    \"val_size\": -1,\n",
    "#     \"full_data_dir\": DATA_PATH,\n",
    "    \"data_dir\": PATH,\n",
    "    \"task_name\": \"cifar10\",\n",
    "    \"no_cuda\": False,\n",
    "#     \"output_dir\": CLAS_DATA_PATH/'output',\n",
    "    \"do_train\": True,\n",
    "    \"do_eval\": True,\n",
    "    \"train_batch_size\": 5,\n",
    "    \"eval_batch_size\": 5,\n",
    "    \"learning_rate\": 3e-5,\n",
    "    \"num_train_epochs\": 2.0,\n",
    "    \"warmup_proportion\": 0.1,\n",
    "    \"local_rank\": -1,\n",
    "    \"seed\": 42,\n",
    "    \"gradient_accumulation_steps\": 1,\n",
    "    \"optimize_on_cpu\": False,\n",
    "    \"fp16\": False,\n",
    "    \"loss_scale\": 128,\n",
    "    \"mean_val\": 0.5,\n",
    "    \"sd_val\": 0.5,\n",
    "    \"batch_sz\" : 5\n",
    "}"
   ]
  },
  {
   "cell_type": "markdown",
   "metadata": {},
   "source": [
    "First, we think about how to transform our data, once we pull it. The **Compose** callable class allows us to stack transformations on top of each other. Here, we are interested in normalizing the color in our tensor images, towards a mean of 0.5 and standard deviation of 0.5. This is important because we do not want our model to be unnecessarily biased by color distribution in examples, or a set of examples. \n",
    "\n",
    "Note that color images have three channels: red, green and blue. We therefore need to pass three parameters each for normalizing the mean and standard deviations."
   ]
  },
  {
   "cell_type": "code",
   "execution_count": 6,
   "metadata": {},
   "outputs": [],
   "source": [
    "# transform\n",
    "transform = transforms.Compose(\n",
    "    [transforms.ToTensor(),\n",
    "     transforms.Normalize((args[\"mean_val\"], args[\"mean_val\"], args[\"mean_val\"]), (args[\"sd_val\"], args[\"sd_val\"], args[\"sd_val\"]))])\n"
   ]
  },
  {
   "cell_type": "markdown",
   "metadata": {},
   "source": [
    "Then, we define the batch size to be 5. Then we define the training and test sets, transforming them and downloading if necessary. We then load the data, setting **shuffle** to True for the training data to reshuffle after every epoch."
   ]
  },
  {
   "cell_type": "code",
   "execution_count": 7,
   "metadata": {},
   "outputs": [
    {
     "name": "stdout",
     "output_type": "stream",
     "text": [
      "Files already downloaded and verified\n",
      "Files already downloaded and verified\n"
     ]
    }
   ],
   "source": [
    "\n",
    "# Download training set from CIFAR10, using the transform defined above\n",
    "trainset = torchvision.datasets.CIFAR10(root='./data', train=True, download=True, transform=transform)\n",
    "\n",
    "# Load the data using a dataloader, from the training set, with batchsize 5 and multi processing (workers)\n",
    "trainloader = torch.utils.data.DataLoader(trainset, batch_size=args[\"batch_sz\"], shuffle=True, num_workers=2)\n",
    "\n",
    "# Test set\n",
    "testset = torchvision.datasets.CIFAR10(root='./data', train=False, download=True, transform=transform)\n",
    "\n",
    "testloader = torch.utils.data.DataLoader(testset, batch_size=args[\"batch_sz\"],  shuffle=False, num_workers=2)"
   ]
  },
  {
   "cell_type": "markdown",
   "metadata": {},
   "source": [
    "From the CIFAR documentation, get the class names. We can abbreviate them or use shortened version, as long as we do not change the meaning. Note that the labels were initially generated to be mutually exclusive."
   ]
  },
  {
   "cell_type": "code",
   "execution_count": 8,
   "metadata": {},
   "outputs": [],
   "source": [
    "#set class names for CIFAR-10\n",
    "\n",
    "classes = ('plane', 'car', 'bird', 'cat', 'deer',\n",
    "            'dog', 'frog', 'horse', 'ship', 'truck')\n",
    "\n",
    "classes2 = ('airplane', 'automobile', 'bird', 'cat', 'deer',\n",
    "            'dog', 'frog', 'horse', 'ship', 'truck')"
   ]
  },
  {
   "cell_type": "markdown",
   "metadata": {},
   "source": [
    "For the exploratory phase, let us define a function to display our images. We take advantage of matplotlib's **imshow** method to do this. \n",
    "\n",
    "Using **iter()** combined with **next()**, we can create iterations of images in our training set to view, and print their true labels just underneath."
   ]
  },
  {
   "cell_type": "code",
   "execution_count": 9,
   "metadata": {},
   "outputs": [
    {
     "data": {
      "image/png": "[encoded data removed]",
      "text/plain": [
       "<Figure size 432x288 with 1 Axes>"
      ]
     },
     "metadata": {
      "needs_background": "light"
     },
     "output_type": "display_data"
    },
    {
     "name": "stdout",
     "output_type": "stream",
     "text": [
      "horse      truck       deer        cat      plane\n"
     ]
    }
   ],
   "source": [
    "# Display pictures\n",
    "\n",
    "\n",
    "def show_image(img):\n",
    "    img = img*args[\"mean_val\"] + args[\"sd_val\"]     # unnormalize\n",
    "    npimg = img.numpy()\n",
    "    plt.imshow(np.transpose(npimg, (1, 2, 0))) # use imshow to display data as an image, i.e., on a 2D regular raster.\n",
    "    plt.show()\n",
    "\n",
    "# get some random training images from the dataloader\n",
    "dataiter = iter(trainloader) # iter() creates an object which can be iterated one element at a time, esp with next()\n",
    "images, labels = dataiter.next()\n",
    "\n",
    "# show images in a batch (click this cell a couple of time to see several batches)\n",
    "show_image(torchvision.utils.make_grid(images))\n",
    "# print labels for a batch\n",
    "print('      '.join('%5s' % classes[labels[j]] for j in range(args[\"batch_sz\"])))\n"
   ]
  },
  {
   "cell_type": "markdown",
   "metadata": {},
   "source": [
    "Now, we can take the Module class to create our 3-channel images. Her, we have a basic architecture that starts with 3 in-channels and goes in the sequence: \n",
    "\n",
    "Conv Layer -> ReLU -> Max Pooling -> Conv Layer -> ReLU -> Max Pooling -> ReLU(Fully Connected) -> ReLU(Fully Connected) -> Fully Connected "
   ]
  },
  {
   "cell_type": "code",
   "execution_count": 10,
   "metadata": {},
   "outputs": [],
   "source": [
    "# Define a CNN and modify to take 3-channel images\n",
    "\n",
    "class Net(nn.Module):\n",
    "    def __init__(self):\n",
    "        super(Net, self).__init__()\n",
    "        self.conv1 = nn.Conv2d(3, 6, 5)  # nn.Conv2d(in_channels, out_channels, kernel_size)\n",
    "        self.pool = nn.MaxPool2d(2, 2)   # nn.MaxPool2d(kernel_size, stride)    #think about removing the pools\n",
    "        self.conv2 = nn.Conv2d(6, 16, 5) \n",
    "        self.fc1 = nn.Linear(16 * 5 * 5, 120) #nn.Linear(in_features, out_features)\n",
    "        self.fc2 = nn.Linear(120, 84)\n",
    "        self.fc3 = nn.Linear(84, 10)\n",
    "\n",
    "    def forward(self, x):  # forward prop architecture\n",
    "        x = self.pool(F.relu(self.conv1(x)))  # use conv1, then relu to squish values, then pool\n",
    "        x = self.pool(F.relu(self.conv2(x)))  # use conv2, then relu to squish values, then pool\n",
    "        x = x.view(-1, 16 * 5 * 5)            # view method returns a tensor with the same data as the self tensor (the returned tensor has the same number of elements), but with a different shape. \n",
    "        x = F.relu(self.fc1(x))               # fully connected layer fc1, then relu\n",
    "        x = F.relu(self.fc2(x))               # fully connected layer fc2, then relu\n",
    "        x = self.fc3(x)                       # fully connected layer, corresponds to final output\n",
    "        return x\n",
    "\n",
    "\n",
    "net = Net()"
   ]
  },
  {
   "cell_type": "markdown",
   "metadata": {},
   "source": [
    "At this junction, we should think about our choice of loss function and optimizers. \n",
    "\n",
    "There are a number of loss criteria and optimizers at our disposal, but we will start with cross entropy loss and stochastic gradient descent."
   ]
  },
  {
   "cell_type": "code",
   "execution_count": 11,
   "metadata": {},
   "outputs": [],
   "source": [
    "# Loss Function and Optimizer\n",
    "criterion = nn.CrossEntropyLoss()    #cross entropy loss\n",
    "optimizer = optim.SGD(net.parameters(), lr=0.001, momentum=0.9)   # start with learning rate of 0.001 for stochastic GD"
   ]
  },
  {
   "cell_type": "markdown",
   "metadata": {},
   "source": [
    "Now, we train over 2 epochs for our training set of 10000, printing loss metrics after 2000 examples."
   ]
  },
  {
   "cell_type": "code",
   "execution_count": 12,
   "metadata": {},
   "outputs": [
    {
     "name": "stdout",
     "output_type": "stream",
     "text": [
      "[1,  2000] loss: 2.150\n",
      "[1,  4000] loss: 1.777\n",
      "[1,  6000] loss: 1.620\n",
      "[1,  8000] loss: 1.529\n",
      "[1, 10000] loss: 1.484\n",
      "[2,  2000] loss: 1.422\n",
      "[2,  4000] loss: 1.377\n",
      "[2,  6000] loss: 1.345\n",
      "[2,  8000] loss: 1.322\n",
      "[2, 10000] loss: 1.304\n",
      "Finished Training\n"
     ]
    }
   ],
   "source": [
    "for epoch in range(2):  # loop over the dataset multiple times\n",
    "    running_loss = 0.0\n",
    "    for i, data in enumerate(trainloader, 0):\n",
    "        \n",
    "        inputs, labels = data         # get the inputs; data is a list of [inputs, labels]\n",
    "        optimizer.zero_grad()         # zero the parameter gradients\n",
    "\n",
    "        # forward pass + backprop + optimize\n",
    "        outputs = net(inputs)\n",
    "        loss = criterion(outputs, labels)\n",
    "        loss.backward()\n",
    "        optimizer.step()\n",
    "\n",
    "        # print statistics\n",
    "        running_loss += loss.item()\n",
    "        print_interval = 2000 # number of mini-batches after which to evaluate running loss\n",
    "        \n",
    "        if i % print_interval == print_interval-1:    # print every 2000 mini-batches\n",
    "            print('[%d, %5d] loss: %.3f' %\n",
    "                  (epoch + 1, i + 1, running_loss / print_interval))\n",
    "            running_loss = 0.0\n",
    "\n",
    "print('Finished Training')"
   ]
  },
  {
   "cell_type": "code",
   "execution_count": 14,
   "metadata": {},
   "outputs": [],
   "source": [
    "torch.save(net.state_dict(), PATH)"
   ]
  },
  {
   "cell_type": "code",
   "execution_count": 15,
   "metadata": {},
   "outputs": [
    {
     "data": {
      "image/png": "[encoded data removed]",
      "text/plain": [
       "<Figure size 432x288 with 1 Axes>"
      ]
     },
     "metadata": {
      "needs_background": "light"
     },
     "output_type": "display_data"
    },
    {
     "name": "stdout",
     "output_type": "stream",
     "text": [
      "GroundTruth:    cat  ship  ship plane  frog\n"
     ]
    }
   ],
   "source": [
    "# Test Set (take a batch from the test dataloader, assign them to images and their real labels)\n",
    "dataiter = iter(testloader)\n",
    "images, labels = dataiter.next()\n",
    "\n",
    "# print images\n",
    "show_image(torchvision.utils.make_grid(images))\n",
    "print('GroundTruth: ', ' '.join('%5s' % classes[labels[j]] for j in range(args[\"batch_sz\"])))\n"
   ]
  },
  {
   "cell_type": "code",
   "execution_count": 16,
   "metadata": {},
   "outputs": [
    {
     "data": {
      "text/plain": [
       "<All keys matched successfully>"
      ]
     },
     "execution_count": 16,
     "metadata": {},
     "output_type": "execute_result"
    }
   ],
   "source": [
    "# Loading the network back up (unnecessary)\n",
    "net = Net()\n",
    "net.load_state_dict(torch.load(PATH))"
   ]
  },
  {
   "cell_type": "code",
   "execution_count": 17,
   "metadata": {},
   "outputs": [
    {
     "name": "stdout",
     "output_type": "stream",
     "text": [
      "Predicted:    cat  ship  ship  ship  frog\n"
     ]
    }
   ],
   "source": [
    "outputs = net(images)   # predictions of the network for the test set\n",
    "\n",
    "_, predicted = torch.max(outputs, 1)\n",
    "\n",
    "print('Predicted: ', ' '.join('%5s' % classes[predicted[j]]  for j in range(args[\"batch_sz\"])))"
   ]
  },
  {
   "cell_type": "code",
   "execution_count": 18,
   "metadata": {},
   "outputs": [
    {
     "name": "stdout",
     "output_type": "stream",
     "text": [
      "cuda:0\n",
      "4\n"
     ]
    }
   ],
   "source": [
    "# Transfer the neural net onto the GPU.\n",
    "device = torch.device(\"cuda:0\" if torch.cuda.is_available() and not args[\"no_cuda\"] else \"cpu\")\n",
    "\n",
    "# Assuming that we are on a CUDA machine, this should print a CUDA device:\n",
    "print(device)\n",
    "\n",
    "# How many GPUs? Should be 4 Tesla V100s\n",
    "\n",
    "n_gpu = torch.cuda.device_count()\n",
    "print(n_gpu)\n",
    "\n"
   ]
  },
  {
   "cell_type": "markdown",
   "metadata": {},
   "source": [
    "Now we define an evaluation metric for the net, overall accuracy and per class accuracy."
   ]
  },
  {
   "cell_type": "code",
   "execution_count": 20,
   "metadata": {},
   "outputs": [],
   "source": [
    "\n",
    "def accuracy_monitor(trained_net, n_class):\n",
    "    correct = 0\n",
    "    total = 0\n",
    "    \n",
    "    class_correct = list(0. for i in range(n_class))\n",
    "    class_total = list(0. for i in range(n_class))\n",
    "\n",
    "    \n",
    "    with torch.no_grad():   # no gradient calculation\n",
    "        for data in testloader:\n",
    "            images, labels = data\n",
    "            images = images.to(device)\n",
    "            labels = labels.to(device)\n",
    "            trained_net = trained_net.to(device)\n",
    "            outputs = trained_net(images)\n",
    "\n",
    "            _, predicted = torch.max(outputs.data, 1)   # extract predictions\n",
    "\n",
    "            total += labels.size(0)\n",
    "            correct += (predicted == labels).sum().item()\n",
    "\n",
    "            c = (predicted == labels).squeeze()\n",
    "            for i in range(args[\"batch_sz\"]):\n",
    "                label = labels[i]\n",
    "                class_correct[label] += c[i].item()\n",
    "                class_total[label] += 1\n",
    "\n",
    "    print('Accuracy of the network on the 10000 test images: %d %%' % (\n",
    "        100 * correct / total))\n",
    "\n",
    "    for i in range(10):\n",
    "        print('Accuracy of %5s : %2d %%' % (\n",
    "            classes[i], 100 * class_correct[i] / class_total[i]))\n",
    "        "
   ]
  },
  {
   "cell_type": "code",
   "execution_count": 21,
   "metadata": {},
   "outputs": [
    {
     "name": "stdout",
     "output_type": "stream",
     "text": [
      "Accuracy of the network on the 10000 test images: 53 %\n",
      "Accuracy of plane : 55 %\n",
      "Accuracy of   car : 64 %\n",
      "Accuracy of  bird : 31 %\n",
      "Accuracy of   cat : 43 %\n",
      "Accuracy of  deer : 42 %\n",
      "Accuracy of   dog : 67 %\n",
      "Accuracy of  frog : 62 %\n",
      "Accuracy of horse : 50 %\n",
      "Accuracy of  ship : 75 %\n",
      "Accuracy of truck : 40 %\n"
     ]
    }
   ],
   "source": [
    "accuracy_monitor(net, n_class=10)"
   ]
  },
  {
   "cell_type": "code",
   "execution_count": null,
   "metadata": {},
   "outputs": [],
   "source": []
  },
  {
   "cell_type": "markdown",
   "metadata": {},
   "source": [
    "Hmm, better than random (1/#classes ~ 10%), but we would ideally want to see if we can boost this."
   ]
  },
  {
   "cell_type": "code",
   "execution_count": null,
   "metadata": {},
   "outputs": [],
   "source": []
  },
  {
   "cell_type": "code",
   "execution_count": null,
   "metadata": {},
   "outputs": [],
   "source": []
  },
  {
   "cell_type": "markdown",
   "metadata": {},
   "source": [
    "Now, let us try to improve this a little bit towards **SotA** performance. The SoTA ResNet structure we will try to adopt is from [Deep Residual Learning for Image Recognition](https://arxiv.org/pdf/1512.03385.pdf).\n",
    "\n",
    "The one thing I would like to probe a bit are the **optimizer** parameters. Used some insight from [Machine Learning from Scratch](https://mlfromscratch.com/optimizers-explained/#/) as a guide.\n",
    "\n",
    "Take a lead from In \"Bag of Tricks for Image Classification with Convolutional Neural Networks\", Tong He et al., where instead of just starting with ResNet blocks, it begins with a few convolutional layers followed by a max pooling layer. The first layers are called the stem of the network."
   ]
  },
  {
   "cell_type": "code",
   "execution_count": 24,
   "metadata": {},
   "outputs": [],
   "source": [
    "# Define a modular class for convolution layer with ReLU as activation and BatchNorm\n",
    "class BaseConv(nn.Module):\n",
    "\n",
    "    def __init__(self, input_channels, output_channels, kernel_size, **kwargs):\n",
    "        super().__init__()\n",
    "        self.conv = nn.Conv2d(input_channels, output_channels, kernel_size, **kwargs)\n",
    "        self.batchnorm = nn.BatchNorm2d(output_channels)\n",
    "        self.relu = nn.ReLU(inplace=True)\n",
    "    \n",
    "    def forward(self, x):\n",
    "        x = self.relu(self.batchnorm(self.conv(x)))\n",
    "\n",
    "        return x"
   ]
  },
  {
   "cell_type": "markdown",
   "metadata": {},
   "source": [
    "Now that we have created a modular convolution layer class, we can use this as one of our building blocks for the resnet blocks.\n",
    "\n",
    "Initial weighting can influence performance of neural nets. One potential reason is that updating weights after each mini-batch may change the distribution of inputs to layers deep in the network. This is called **internal covariate shift**.\n",
    "\n",
    "**Batch Normalization** is a technique for training very deep neural nets by standardizing the inputs to a layer for each mini-batch, so the deep layers are not chasing a moving target, which stabilizes the learning process and reduces required training epochs. \n",
    "\n",
    "The method by which it does it is by scaling the output of the layer, specifically by standardizing the activations of each input variable per mini-batch, such as the activations of a node from the previous layer. **Standardization** means rescaling data to have a mean of zero and a standard deviation of one, e.g. a standard Gaussian.\n",
    "\n",
    "Batchnorm can be applied to either the activations of a prior layer or inputs directly.\n"
   ]
  },
  {
   "cell_type": "code",
   "execution_count": null,
   "metadata": {},
   "outputs": [],
   "source": []
  },
  {
   "cell_type": "markdown",
   "metadata": {},
   "source": [
    "Define a ResNet block. This will serve as the basis for the ResNet architecture we put together. The all-important residuals are calculated by a sequence of stacked (normalized) convolutions."
   ]
  },
  {
   "cell_type": "code",
   "execution_count": 25,
   "metadata": {},
   "outputs": [],
   "source": [
    "class ResBlock(nn.Module):\n",
    "    \"\"\"\n",
    "    Basic Block for small resnets\n",
    "    \"\"\"\n",
    "    expansion = 1\n",
    "#     stem = _resnet_stem(3,32,32,64)\n",
    "    \n",
    "\n",
    "    def __init__(self, in_channels, out_channels, stride=1):\n",
    "        super().__init__()\n",
    "\n",
    "        #residual function\n",
    "        self.residual_function = nn.Sequential(\n",
    "            nn.Conv2d(in_channels, out_channels, kernel_size=3, stride=stride, padding=1, bias=False),\n",
    "            nn.BatchNorm2d(out_channels),\n",
    "            nn.ReLU(inplace=True),\n",
    "            nn.Conv2d(out_channels, out_channels * ResBlock.expansion, kernel_size=3, padding=1, bias=False),\n",
    "            nn.BatchNorm2d(out_channels * ResBlock.expansion)\n",
    "        )\n",
    "\n",
    "        #self-convolution loop\n",
    "        self.selfconv = nn.Sequential()\n",
    "\n",
    "        #the self-convolution output dimension is not the same as residual function\n",
    "        #use self-convolution to conform dimensions\n",
    "        if stride != 1 or in_channels != ResBlock.expansion * out_channels:\n",
    "            self.selfconv = nn.Sequential(\n",
    "                nn.Conv2d(in_channels, out_channels * ResBlock.expansion, kernel_size=1, stride=stride, bias=False),\n",
    "                nn.BatchNorm2d(out_channels * ResBlock.expansion)\n",
    "            )\n",
    "\n",
    "    def forward(self, x):\n",
    "        return nn.ReLU(inplace=True)(self.residual_function(x) + self.selfconv(x))\n"
   ]
  },
  {
   "cell_type": "markdown",
   "metadata": {},
   "source": [
    "Finally, building the ResNet for our dataset requires some stem architecutre."
   ]
  },
  {
   "cell_type": "code",
   "execution_count": 26,
   "metadata": {},
   "outputs": [
    {
     "data": {
      "text/plain": [
       "[BaseConv(\n",
       "   (conv): Conv2d(3, 32, kernel_size=(3, 3), stride=(2, 2))\n",
       "   (batchnorm): BatchNorm2d(32, eps=1e-05, momentum=0.1, affine=True, track_running_stats=True)\n",
       "   (relu): ReLU(inplace=True)\n",
       " ),\n",
       " BaseConv(\n",
       "   (conv): Conv2d(32, 32, kernel_size=(3, 3), stride=(1, 1))\n",
       "   (batchnorm): BatchNorm2d(32, eps=1e-05, momentum=0.1, affine=True, track_running_stats=True)\n",
       "   (relu): ReLU(inplace=True)\n",
       " ),\n",
       " BaseConv(\n",
       "   (conv): Conv2d(32, 64, kernel_size=(3, 3), stride=(1, 1))\n",
       "   (batchnorm): BatchNorm2d(64, eps=1e-05, momentum=0.1, affine=True, track_running_stats=True)\n",
       "   (relu): ReLU(inplace=True)\n",
       " ),\n",
       " MaxPool2d(kernel_size=3, stride=2, padding=1, dilation=1, ceil_mode=False)]"
      ]
     },
     "execution_count": 26,
     "metadata": {},
     "output_type": "execute_result"
    }
   ],
   "source": [
    "# Write a stem architecture with flexible size inputs (use the star operator)\n",
    "def _resnet_stem(*sizes):\n",
    "    return [ BaseConv(sizes[i], sizes[i+1], 3, stride = 2 if i==0 else 1)  for i in range(len(sizes)-1)\n",
    "    ] + [nn.MaxPool2d(kernel_size=3, stride=2, padding=1)]\n",
    "\n",
    "_resnet_stem(3,32,32,64)"
   ]
  },
  {
   "cell_type": "code",
   "execution_count": 42,
   "metadata": {},
   "outputs": [],
   "source": [
    "class ResNet(nn.Module):\n",
    "    \n",
    "    def __init__(self, block, num_block, num_classes=100):\n",
    "        super().__init__()\n",
    "\n",
    "        self.in_channels = 64\n",
    "        \n",
    "#         self.conv0 = nn.Sequential(_resnet_stem(3,32,32,64)[0], _resnet_stem(3,32,32,64)[1],\n",
    "#                                    _resnet_stem(3,32,32,64)[2], _resnet_stem(3,32,32,64)[3])\n",
    "        \n",
    "        self.conv0 = nn.Sequential(*_resnet_stem(3,32,32,64))\n",
    "\n",
    "        self.conv1 = nn.Sequential(\n",
    "            nn.Conv2d(3, 64, kernel_size=3, padding=1, bias=False),\n",
    "            nn.BatchNorm2d(64),\n",
    "            nn.ReLU(inplace=True))\n",
    "        \n",
    "        #so conv2_x's stride is 1 because of different input size than the original paper\n",
    "        \n",
    "        block_sizes = [64, 64, 128, 256, 512]\n",
    "        \n",
    "        self.conv2_x = self._make_layer(block, block_sizes[1]*block.expansion, num_block[0], 1)\n",
    "        self.conv3_x = self._make_layer(block, block_sizes[2]*block.expansion, num_block[1], 2)\n",
    "        self.conv4_x = self._make_layer(block, block_sizes[3]*block.expansion, num_block[2], 2)\n",
    "        self.conv5_x = self._make_layer(block, block_sizes[4]*block.expansion, num_block[3], 2)\n",
    "        \n",
    "#         self.conv2_x = self._make_layer(block, 64, num_block[0], 1)\n",
    "#         self.conv3_x = self._make_layer(block, 128, num_block[1], 2)\n",
    "#         self.conv4_x = self._make_layer(block, 256, num_block[2], 2)\n",
    "#         self.conv5_x = self._make_layer(block, 512, num_block[3], 2)\n",
    "        self.avg_pool = nn.AdaptiveAvgPool2d((1, 1))\n",
    "        self.fc = nn.Linear(512 * block.expansion, num_classes)\n",
    "\n",
    "    def _make_layer(self, block, out_channels, num_blocks, stride):\n",
    "        \"\"\"make resnet layers one layer may contain more than one residual block\n",
    "        Args:\n",
    "            block: block type, basic block or bottle neck block\n",
    "            out_channels: output depth channel number of this layer\n",
    "            num_blocks: how many blocks per layer\n",
    "            stride: the stride of the first block of this layer\n",
    "        Return:\n",
    "            return a resnet layer\n",
    "        \"\"\"\n",
    "        # we have num_block blocks per layer, the first block\n",
    "        # could be 1 or 2, other blocks would always be 1\n",
    "        strides = [stride] + [1] * (num_blocks - 1)\n",
    "        layers = []\n",
    "        for stride in strides:\n",
    "            layers.append(block(self.in_channels, out_channels, stride))\n",
    "            self.in_channels = out_channels * block.expansion\n",
    "\n",
    "        return nn.Sequential(*layers)\n",
    "\n",
    "    def forward(self, x):\n",
    "        x = self.conv5_x(self.conv4_x(self.conv3_x(self.conv2_x(self.conv1(x)))))  #convolve\n",
    "#         x = self.conv5_x(self.conv4_x(self.conv3_x(self.conv2_x(self.conv0(x)))))\n",
    "        output = self.avg_pool(x)                                                  #pool\n",
    "        output = output.view(output.size(0), -1)                                   #reshape\n",
    "        output = self.fc(output)                                                   #fully connected\n",
    "\n",
    "        return output\n"
   ]
  },
  {
   "cell_type": "code",
   "execution_count": 43,
   "metadata": {},
   "outputs": [],
   "source": [
    "# block, num_block, num_classes=10\n",
    "# num_block <- \n",
    "def resnet18():\n",
    "    \"\"\" \n",
    "    return a ResNet 18 object\n",
    "    \"\"\"\n",
    "    return ResNet(ResBlock, [2, 2, 2, 2], num_classes=10)\n",
    "\n",
    "def resnet34():\n",
    "    \"\"\" \n",
    "    return a ResNet 34 object\n",
    "    \"\"\"\n",
    "    return ResNet(ResBlock, [3, 4, 6, 3], num_classes=10)\n",
    "\n",
    "\n",
    "\n",
    "\n"
   ]
  },
  {
   "cell_type": "code",
   "execution_count": 55,
   "metadata": {},
   "outputs": [],
   "source": [
    "net18 = resnet18()"
   ]
  },
  {
   "cell_type": "code",
   "execution_count": 159,
   "metadata": {},
   "outputs": [],
   "source": [
    "net34 = resnet34()"
   ]
  },
  {
   "cell_type": "code",
   "execution_count": 154,
   "metadata": {},
   "outputs": [],
   "source": []
  },
  {
   "cell_type": "code",
   "execution_count": 34,
   "metadata": {},
   "outputs": [],
   "source": [
    "def net_trainer(trainloader, optimizer, criterion, neural_net, n_epochs =2, print_interval=2000):\n",
    "    \n",
    "    for epoch in range(n_epochs):  # loop over the dataset multiple times\n",
    "        running_loss = 0.0\n",
    "        for i, data in enumerate(trainloader, 0):\n",
    "\n",
    "            inputs, labels = data         # get the inputs; data is a list of [inputs, labels]\n",
    "#             inputs = inputs.to(device)\n",
    "#             labels = labels.to(device)\n",
    "            optimizer.zero_grad()         # zero the parameter gradients\n",
    "\n",
    "            # forward pass + backprop + optimize\n",
    "            outputs = neural_net(inputs)\n",
    "            loss = criterion(outputs, labels)\n",
    "            loss.backward()\n",
    "            optimizer.step()\n",
    "\n",
    "            # print statistics\n",
    "            running_loss += loss.item()\n",
    "\n",
    "            if i % print_interval == print_interval-1:    # print every 2000 mini-batches\n",
    "                print('[%d, %5d] loss: %.3f' %\n",
    "                      (epoch + 1, i + 1, running_loss / print_interval))\n",
    "                running_loss = 0.0\n",
    "\n",
    "    print('Finished Training')"
   ]
  },
  {
   "cell_type": "code",
   "execution_count": 62,
   "metadata": {},
   "outputs": [],
   "source": []
  },
  {
   "cell_type": "code",
   "execution_count": 45,
   "metadata": {},
   "outputs": [
    {
     "name": "stdout",
     "output_type": "stream",
     "text": [
      "[1,  2000] loss: 1.867\n",
      "[1,  4000] loss: 1.473\n",
      "[1,  6000] loss: 1.275\n",
      "[1,  8000] loss: 1.123\n",
      "[1, 10000] loss: 0.995\n",
      "[2,  2000] loss: 0.894\n",
      "[2,  4000] loss: 0.833\n",
      "[2,  6000] loss: 0.796\n",
      "[2,  8000] loss: 0.767\n",
      "[2, 10000] loss: 0.736\n",
      "Finished Training\n"
     ]
    }
   ],
   "source": [
    "net_trainer(trainloader=trainloader, \n",
    "            criterion=nn.CrossEntropyLoss(), \n",
    "            optimizer= optim.SGD(net18.parameters(), lr=0.001, momentum=0.9), \n",
    "            neural_net=net18)"
   ]
  },
  {
   "cell_type": "code",
   "execution_count": 46,
   "metadata": {},
   "outputs": [],
   "source": [
    "#make a note of _resnet_stem not being very effective. Initial loss of 2.216 and final loss of 1.388\n",
    "\n",
    "# net_trainer(trainloader=trainloader, \n",
    "#             criterion=nn.CrossEntropyLoss(), \n",
    "#             optimizer= optim.SGD(net34.parameters(), lr=0.001, momentum=0.9), \n",
    "#             neural_net=net34)"
   ]
  },
  {
   "cell_type": "markdown",
   "metadata": {},
   "source": [
    "This looks better than our original effort. What does our accuracy look like?"
   ]
  },
  {
   "cell_type": "code",
   "execution_count": 47,
   "metadata": {},
   "outputs": [
    {
     "name": "stdout",
     "output_type": "stream",
     "text": [
      "Accuracy of the network on the 10000 test images: 72 %\n",
      "Accuracy of plane : 81 %\n",
      "Accuracy of   car : 88 %\n",
      "Accuracy of  bird : 70 %\n",
      "Accuracy of   cat : 60 %\n",
      "Accuracy of  deer : 82 %\n",
      "Accuracy of   dog : 54 %\n",
      "Accuracy of  frog : 63 %\n",
      "Accuracy of horse : 72 %\n",
      "Accuracy of  ship : 72 %\n",
      "Accuracy of truck : 79 %\n"
     ]
    }
   ],
   "source": [
    "accuracy_monitor(net18, n_class=10)"
   ]
  },
  {
   "cell_type": "code",
   "execution_count": null,
   "metadata": {},
   "outputs": [],
   "source": []
  },
  {
   "cell_type": "code",
   "execution_count": 147,
   "metadata": {},
   "outputs": [],
   "source": []
  },
  {
   "cell_type": "code",
   "execution_count": null,
   "metadata": {},
   "outputs": [],
   "source": []
  },
  {
   "cell_type": "code",
   "execution_count": null,
   "metadata": {},
   "outputs": [],
   "source": []
  },
  {
   "cell_type": "code",
   "execution_count": null,
   "metadata": {},
   "outputs": [],
   "source": []
  },
  {
   "cell_type": "code",
   "execution_count": null,
   "metadata": {},
   "outputs": [],
   "source": []
  },
  {
   "cell_type": "code",
   "execution_count": null,
   "metadata": {},
   "outputs": [],
   "source": []
  },
  {
   "cell_type": "code",
   "execution_count": null,
   "metadata": {},
   "outputs": [],
   "source": []
  },
  {
   "cell_type": "code",
   "execution_count": 2,
   "metadata": {},
   "outputs": [
    {
     "name": "stdout",
     "output_type": "stream",
     "text": [
      "[64, 256, 512, 1024, 2048]\n",
      "2048\n"
     ]
    }
   ],
   "source": [
    "expansion=4\n",
    "block_szs = [64, 64, 128, 256, 512]\n",
    "for i in range(1,5): block_szs[i] *= expansion\n",
    "\n",
    "print(block_szs)\n",
    "print(block_szs[-1])"
   ]
  },
  {
   "cell_type": "code",
   "execution_count": null,
   "metadata": {},
   "outputs": [],
   "source": []
  },
  {
   "cell_type": "markdown",
   "metadata": {},
   "source": [
    "Implementing tricks. Earlier, we employed some standard transforms to our data to see performance improvements. Let us see if the tricks from the bag of tricks help us here."
   ]
  },
  {
   "cell_type": "code",
   "execution_count": 57,
   "metadata": {},
   "outputs": [],
   "source": [
    "\n",
    "\n",
    "# transform\n",
    "\n",
    "# We may want to use different transforms for training and testing\n",
    "train_transform = transforms.Compose([\n",
    "        #transforms.ToPILImage(),\n",
    "#         transforms.ToCVImage(),\n",
    "#         transforms.RandomResizedCrop(settings.IMAGE_SIZE),\n",
    "        transforms.RandomHorizontalFlip(),\n",
    "        transforms.ColorJitter(brightness=0.4, saturation=0.4, hue=0.4),\n",
    "        #transforms.RandomErasing(),\n",
    "        #transforms.CutOut(56),\n",
    "        transforms.ToTensor(),\n",
    "        transforms.Normalize((args[\"mean_val\"], args[\"mean_val\"], args[\"mean_val\"]), (args[\"sd_val\"], args[\"sd_val\"], args[\"sd_val\"])),\n",
    "    ])\n",
    "\n",
    "test_transform = transforms.Compose(\n",
    "    [transforms.ToTensor(),\n",
    "     transforms.Normalize((args[\"mean_val\"], args[\"mean_val\"], args[\"mean_val\"]), (args[\"sd_val\"], args[\"sd_val\"], args[\"sd_val\"])),\n",
    "      ])\n",
    "\n"
   ]
  },
  {
   "cell_type": "code",
   "execution_count": 58,
   "metadata": {},
   "outputs": [
    {
     "name": "stdout",
     "output_type": "stream",
     "text": [
      "Files already downloaded and verified\n",
      "Files already downloaded and verified\n"
     ]
    }
   ],
   "source": [
    "# Loading the data with our updated transforms for the training set.\n",
    "\n",
    "trainset_v2 = torchvision.datasets.CIFAR10(root='./data', train=True, download=True, transform=train_transform)\n",
    "\n",
    "# Load the data using a dataloader, from the training set, with batchsize 5 and multi processing (workers)\n",
    "trainloader_v2 = torch.utils.data.DataLoader(trainset_v2, batch_size=args[\"batch_sz\"], shuffle=True, num_workers=2)\n",
    "\n",
    "# Test set\n",
    "testset_v2 = torchvision.datasets.CIFAR10(root='./data', train=False, download=True, transform=test_transform)\n",
    "\n",
    "testloader_v2 = torch.utils.data.DataLoader(testset_v2, batch_size=args[\"batch_sz\"],  shuffle=False, num_workers=2)"
   ]
  },
  {
   "cell_type": "code",
   "execution_count": 59,
   "metadata": {},
   "outputs": [
    {
     "name": "stdout",
     "output_type": "stream",
     "text": [
      "[1,  2000] loss: 1.997\n",
      "[1,  4000] loss: 1.591\n",
      "[1,  6000] loss: 1.328\n",
      "[1,  8000] loss: 1.176\n",
      "[1, 10000] loss: 1.085\n",
      "[2,  2000] loss: 0.961\n",
      "[2,  4000] loss: 0.921\n",
      "[2,  6000] loss: 0.858\n",
      "[2,  8000] loss: 0.862\n",
      "[2, 10000] loss: 0.814\n",
      "Finished Training\n"
     ]
    }
   ],
   "source": [
    "net18 = resnet18()\n",
    "net_trainer(trainloader=trainloader_v2, \n",
    "            criterion=nn.CrossEntropyLoss(), \n",
    "            optimizer= optim.SGD(net18.parameters(), lr=0.001, momentum=0.9), \n",
    "            neural_net=net18)"
   ]
  },
  {
   "cell_type": "code",
   "execution_count": 62,
   "metadata": {},
   "outputs": [
    {
     "name": "stdout",
     "output_type": "stream",
     "text": [
      "Accuracy of the network on the 10000 test images: 73 %\n",
      "Accuracy of plane : 71 %\n",
      "Accuracy of   car : 92 %\n",
      "Accuracy of  bird : 62 %\n",
      "Accuracy of   cat : 56 %\n",
      "Accuracy of  deer : 64 %\n",
      "Accuracy of   dog : 68 %\n",
      "Accuracy of  frog : 69 %\n",
      "Accuracy of horse : 80 %\n",
      "Accuracy of  ship : 80 %\n",
      "Accuracy of truck : 86 %\n"
     ]
    }
   ],
   "source": [
    "accuracy_monitor(net18, n_class=10)"
   ]
  },
  {
   "cell_type": "code",
   "execution_count": null,
   "metadata": {},
   "outputs": [],
   "source": []
  },
  {
   "cell_type": "code",
   "execution_count": 60,
   "metadata": {},
   "outputs": [],
   "source": [
    "# xavier initialization\n",
    "\n",
    "def init_weights(net):\n",
    "    \"\"\"the weights of conv layer and fully connected layers \n",
    "    are both initilized with Xavier algorithm, In particular,\n",
    "    we set the parameters to random values uniformly drawn from [-a, a]\n",
    "    where a = sqrt(6 * (din + dout)), for batch normalization \n",
    "    layers, y=1, b=0, all bias initialized to 0.\n",
    "    \"\"\"\n",
    "    for m in net.modules():\n",
    "        if isinstance(m, nn.Conv2d):\n",
    "            nn.init.xavier_uniform_(m.weight)\n",
    "            #nn.init.kaiming_normal_(m.weight, mode='fan_out', nonlinearity='relu')\n",
    "            if m.bias is not None:\n",
    "                nn.init.constant_(m.bias, 0)\n",
    "            \n",
    "        elif isinstance(m, nn.BatchNorm2d):\n",
    "            nn.init.constant_(m.weight, 1)\n",
    "            nn.init.constant_(m.bias, 0)\n",
    "        \n",
    "        elif isinstance(m, nn.Linear):\n",
    "            nn.init.xavier_uniform_(m.weight)\n",
    "\n",
    "            if m.bias is not None:\n",
    "                nn.init.constant_(m.bias, 0)\n",
    "\n",
    "    return net"
   ]
  },
  {
   "cell_type": "code",
   "execution_count": 61,
   "metadata": {},
   "outputs": [],
   "source": [
    "net_reinit18 = resnet18()\n",
    "net = init_weights(net_reinit18)"
   ]
  },
  {
   "cell_type": "code",
   "execution_count": 63,
   "metadata": {},
   "outputs": [
    {
     "name": "stdout",
     "output_type": "stream",
     "text": [
      "[1,  2000] loss: 1.930\n",
      "[1,  4000] loss: 1.550\n",
      "[1,  6000] loss: 1.360\n",
      "[1,  8000] loss: 1.231\n",
      "[1, 10000] loss: 1.119\n",
      "[2,  2000] loss: 0.958\n",
      "[2,  4000] loss: 0.900\n",
      "[2,  6000] loss: 0.871\n",
      "[2,  8000] loss: 0.802\n",
      "[2, 10000] loss: 0.809\n",
      "Finished Training\n"
     ]
    }
   ],
   "source": [
    "net_trainer(trainloader=trainloader, \n",
    "            criterion=nn.CrossEntropyLoss(), \n",
    "            optimizer= optim.SGD(net.parameters(), lr=0.001, momentum=0.9), \n",
    "            neural_net=net)"
   ]
  },
  {
   "cell_type": "code",
   "execution_count": null,
   "metadata": {},
   "outputs": [],
   "source": []
  },
  {
   "cell_type": "code",
   "execution_count": 84,
   "metadata": {},
   "outputs": [],
   "source": [
    "def net_trainer_gpu(trainloader, optimizer, criterion, neural_net, n_epochs =2, print_interval=2000):\n",
    "    \n",
    "    for epoch in tqdm(range(int(n_epochs)), desc=\"Epoch\"):\n",
    "#     for epoch in range(n_epochs):  # loop over the dataset multiple times\n",
    "        running_loss = 0.0\n",
    "        for i, data in enumerate(tqdm(trainloader, desc=\"Iteration\"), 0):\n",
    "#         for i, data in enumerate(trainloader, 0):\n",
    "\n",
    "            inputs, labels = data         # get the inputs; data is a list of [inputs, labels]\n",
    "            inputs = inputs.to(device)\n",
    "            labels = labels.to(device)\n",
    "            optimizer.zero_grad()         # zero the parameter gradients\n",
    "\n",
    "            # forward pass + backprop + optimize\n",
    "            outputs = neural_net(inputs)\n",
    "            loss = criterion(outputs, labels)\n",
    "            loss.backward()\n",
    "            optimizer.step()\n",
    "\n",
    "            # print statistics\n",
    "            running_loss += loss.item()\n",
    "\n",
    "            if i % print_interval == print_interval-1:    # print every 2000 mini-batches\n",
    "                print('[%d, %5d] loss: %.3f' %\n",
    "                      (epoch + 1, i + 1, running_loss / print_interval))\n",
    "                running_loss = 0.0\n",
    "\n",
    "    print('Finished Training')"
   ]
  },
  {
   "cell_type": "code",
   "execution_count": 85,
   "metadata": {},
   "outputs": [],
   "source": [
    "net_reinit18 = resnet18()\n",
    "net = init_weights(net_reinit18)\n",
    "\n",
    "# net = nn.DataParallel(net, device_ids=torch.cuda.device_count())\n",
    "net = torch.nn.DataParallel(net, device_ids=[0, 1, 2])\n",
    "net = net.cuda()\n"
   ]
  },
  {
   "cell_type": "code",
   "execution_count": 86,
   "metadata": {},
   "outputs": [
    {
     "data": {
      "application/vnd.jupyter.widget-view+json": {
       "model_id": "339f181f7b1f48a5800bb4aebb1e20ed",
       "version_major": 2,
       "version_minor": 0
      },
      "text/plain": [
       "HBox(children=(HTML(value='Epoch'), FloatProgress(value=0.0, max=2.0), HTML(value='')))"
      ]
     },
     "metadata": {},
     "output_type": "display_data"
    },
    {
     "data": {
      "application/vnd.jupyter.widget-view+json": {
       "model_id": "b137fc2ed0634b89b158a7914f9eabd7",
       "version_major": 2,
       "version_minor": 0
      },
      "text/plain": [
       "HBox(children=(HTML(value='Iteration'), FloatProgress(value=0.0, max=10000.0), HTML(value='')))"
      ]
     },
     "metadata": {},
     "output_type": "display_data"
    },
    {
     "name": "stdout",
     "output_type": "stream",
     "text": [
      "[1,  2000] loss: 2.058\n",
      "\n",
      "\n"
     ]
    },
    {
     "ename": "KeyboardInterrupt",
     "evalue": "",
     "output_type": "error",
     "traceback": [
      "\u001b[0;31m---------------------------------------------------------------------------\u001b[0m",
      "\u001b[0;31mKeyboardInterrupt\u001b[0m                         Traceback (most recent call last)",
      "\u001b[0;32m<ipython-input-86-da1bd4bc56e5>\u001b[0m in \u001b[0;36m<module>\u001b[0;34m\u001b[0m\n\u001b[0;32m----> 1\u001b[0;31m net_trainer_gpu(trainloader=trainloader, \n\u001b[0m\u001b[1;32m      2\u001b[0m             \u001b[0mcriterion\u001b[0m\u001b[0;34m=\u001b[0m\u001b[0mnn\u001b[0m\u001b[0;34m.\u001b[0m\u001b[0mCrossEntropyLoss\u001b[0m\u001b[0;34m(\u001b[0m\u001b[0;34m)\u001b[0m\u001b[0;34m,\u001b[0m\u001b[0;34m\u001b[0m\u001b[0;34m\u001b[0m\u001b[0m\n\u001b[1;32m      3\u001b[0m             \u001b[0moptimizer\u001b[0m\u001b[0;34m=\u001b[0m \u001b[0moptim\u001b[0m\u001b[0;34m.\u001b[0m\u001b[0mSGD\u001b[0m\u001b[0;34m(\u001b[0m\u001b[0mnet\u001b[0m\u001b[0;34m.\u001b[0m\u001b[0mparameters\u001b[0m\u001b[0;34m(\u001b[0m\u001b[0;34m)\u001b[0m\u001b[0;34m,\u001b[0m \u001b[0mlr\u001b[0m\u001b[0;34m=\u001b[0m\u001b[0;36m0.001\u001b[0m\u001b[0;34m,\u001b[0m \u001b[0mmomentum\u001b[0m\u001b[0;34m=\u001b[0m\u001b[0;36m0.9\u001b[0m\u001b[0;34m)\u001b[0m\u001b[0;34m,\u001b[0m\u001b[0;34m\u001b[0m\u001b[0;34m\u001b[0m\u001b[0m\n\u001b[1;32m      4\u001b[0m             neural_net=net)\n",
      "\u001b[0;32m<ipython-input-84-43eefa594c02>\u001b[0m in \u001b[0;36mnet_trainer_gpu\u001b[0;34m(trainloader, optimizer, criterion, neural_net, n_epochs, print_interval)\u001b[0m\n\u001b[1;32m     19\u001b[0m \u001b[0;34m\u001b[0m\u001b[0m\n\u001b[1;32m     20\u001b[0m             \u001b[0;31m# print statistics\u001b[0m\u001b[0;34m\u001b[0m\u001b[0;34m\u001b[0m\u001b[0;34m\u001b[0m\u001b[0m\n\u001b[0;32m---> 21\u001b[0;31m             \u001b[0mrunning_loss\u001b[0m \u001b[0;34m+=\u001b[0m \u001b[0mloss\u001b[0m\u001b[0;34m.\u001b[0m\u001b[0mitem\u001b[0m\u001b[0;34m(\u001b[0m\u001b[0;34m)\u001b[0m\u001b[0;34m\u001b[0m\u001b[0;34m\u001b[0m\u001b[0m\n\u001b[0m\u001b[1;32m     22\u001b[0m \u001b[0;34m\u001b[0m\u001b[0m\n\u001b[1;32m     23\u001b[0m             \u001b[0;32mif\u001b[0m \u001b[0mi\u001b[0m \u001b[0;34m%\u001b[0m \u001b[0mprint_interval\u001b[0m \u001b[0;34m==\u001b[0m \u001b[0mprint_interval\u001b[0m\u001b[0;34m-\u001b[0m\u001b[0;36m1\u001b[0m\u001b[0;34m:\u001b[0m    \u001b[0;31m# print every 2000 mini-batches\u001b[0m\u001b[0;34m\u001b[0m\u001b[0;34m\u001b[0m\u001b[0m\n",
      "\u001b[0;31mKeyboardInterrupt\u001b[0m: "
     ]
    }
   ],
   "source": [
    "net_trainer_gpu(trainloader=trainloader, \n",
    "            criterion=nn.CrossEntropyLoss(), \n",
    "            optimizer= optim.SGD(net.parameters(), lr=0.001, momentum=0.9), \n",
    "            neural_net=net)"
   ]
  },
  {
   "cell_type": "code",
   "execution_count": null,
   "metadata": {},
   "outputs": [],
   "source": []
  },
  {
   "cell_type": "code",
   "execution_count": null,
   "metadata": {},
   "outputs": [],
   "source": []
  },
  {
   "cell_type": "code",
   "execution_count": null,
   "metadata": {},
   "outputs": [],
   "source": []
  },
  {
   "cell_type": "code",
   "execution_count": null,
   "metadata": {},
   "outputs": [],
   "source": [
    "from torch.optim.lr_scheduler import _LRScheduler, Optimizer\n",
    "\n",
    "class CyclicLR(object):\n",
    "    \"\"\"Sets the learning rate of each parameter group according to\n",
    "    cyclical learning rate policy (CLR). The policy cycles the learning\n",
    "    rate between two boundaries with a constant frequency, as detailed in\n",
    "    the paper `Cyclical Learning Rates for Training Neural Networks`_.\n",
    "    The distance between the two boundaries can be scaled on a per-iteration\n",
    "    or per-cycle basis.\n",
    "    Cyclical learning rate policy changes the learning rate after every batch.\n",
    "    `batch_step` should be called after a batch has been used for training.\n",
    "    To resume training, save `last_batch_iteration` and use it to instantiate `CycleLR`.\n",
    "    This class has three built-in policies, as put forth in the paper:\n",
    "    \"triangular\":\n",
    "        A basic triangular cycle w/ no amplitude scaling.\n",
    "    \"triangular2\":\n",
    "        A basic triangular cycle that scales initial amplitude by half each cycle.\n",
    "    \"exp_range\":\n",
    "        A cycle that scales initial amplitude by gamma**(cycle iterations) at each\n",
    "        cycle iteration.\n",
    "    This implementation was adapted from the github repo: `bckenstler/CLR`_\n",
    "    Args:\n",
    "        optimizer (Optimizer): Wrapped optimizer.\n",
    "        base_lr (float or list): Initial learning rate which is the\n",
    "            lower boundary in the cycle for eachparam groups.\n",
    "            Default: 0.001\n",
    "        max_lr (float or list): Upper boundaries in the cycle for\n",
    "            each parameter group. Functionally,\n",
    "            it defines the cycle amplitude (max_lr - base_lr).\n",
    "            The lr at any cycle is the sum of base_lr\n",
    "            and some scaling of the amplitude; therefore\n",
    "            max_lr may not actually be reached depending on\n",
    "            scaling function. Default: 0.006\n",
    "        step_size (int): Number of training iterations per\n",
    "            half cycle. Authors suggest setting step_size\n",
    "            2-8 x training iterations in epoch. Default: 2000\n",
    "        mode (str): One of {triangular, triangular2, exp_range}.\n",
    "            Values correspond to policies detailed above.\n",
    "            If scale_fn is not None, this argument is ignored.\n",
    "            Default: 'triangular'\n",
    "        gamma (float): Constant in 'exp_range' scaling function:\n",
    "            gamma**(cycle iterations)\n",
    "            Default: 1.0\n",
    "        scale_fn (function): Custom scaling policy defined by a single\n",
    "            argument lambda function, where\n",
    "            0 <= scale_fn(x) <= 1 for all x >= 0.\n",
    "            mode paramater is ignored\n",
    "            Default: None\n",
    "        scale_mode (str): {'cycle', 'iterations'}.\n",
    "            Defines whether scale_fn is evaluated on\n",
    "            cycle number or cycle iterations (training\n",
    "            iterations since start of cycle).\n",
    "            Default: 'cycle'\n",
    "        last_batch_iteration (int): The index of the last batch. Default: -1\n",
    "    Example:\n",
    "        >>> optimizer = torch.optim.SGD(model.parameters(), lr=0.1, momentum=0.9)\n",
    "        >>> scheduler = torch.optim.CyclicLR(optimizer)\n",
    "        >>> data_loader = torch.utils.data.DataLoader(...)\n",
    "        >>> for epoch in range(10):\n",
    "        >>>     for batch in data_loader:\n",
    "        >>>         scheduler.batch_step()\n",
    "        >>>         train_batch(...)\n",
    "    .. _Cyclical Learning Rates for Training Neural Networks: https://arxiv.org/abs/1506.01186\n",
    "    .. _bckenstler/CLR: https://github.com/bckenstler/CLR\n",
    "    \"\"\"\n",
    "\n",
    "    def __init__(self, optimizer, base_lr=1e-3, max_lr=6e-3,\n",
    "                 step_size=2000, mode='triangular', gamma=1.,\n",
    "                 scale_fn=None, scale_mode='cycle', last_batch_iteration=-1):\n",
    "\n",
    "#         if not isinstance(optimizer, Optimizer):\n",
    "#             raise TypeError('{} is not an Optimizer'.format(\n",
    "#                 type(optimizer).__name__))\n",
    "        self.optimizer = optimizer\n",
    "\n",
    "        if isinstance(base_lr, list) or isinstance(base_lr, tuple):\n",
    "            if len(base_lr) != len(optimizer.param_groups):\n",
    "                raise ValueError(\"expected {} base_lr, got {}\".format(\n",
    "                    len(optimizer.param_groups), len(base_lr)))\n",
    "            self.base_lrs = list(base_lr)\n",
    "        else:\n",
    "            self.base_lrs = [base_lr] * len(optimizer.param_groups)\n",
    "\n",
    "        if isinstance(max_lr, list) or isinstance(max_lr, tuple):\n",
    "            if len(max_lr) != len(optimizer.param_groups):\n",
    "                raise ValueError(\"expected {} max_lr, got {}\".format(\n",
    "                    len(optimizer.param_groups), len(max_lr)))\n",
    "            self.max_lrs = list(max_lr)\n",
    "        else:\n",
    "            self.max_lrs = [max_lr] * len(optimizer.param_groups)\n",
    "\n",
    "        self.step_size = step_size\n",
    "\n",
    "        if mode not in ['triangular', 'triangular2', 'exp_range'] \\\n",
    "                and scale_fn is None:\n",
    "            raise ValueError('mode is invalid and scale_fn is None')\n",
    "\n",
    "        self.mode = mode\n",
    "        self.gamma = gamma\n",
    "\n",
    "        if scale_fn is None:\n",
    "            if self.mode == 'triangular':\n",
    "                self.scale_fn = self._triangular_scale_fn\n",
    "                self.scale_mode = 'cycle'\n",
    "            elif self.mode == 'triangular2':\n",
    "                self.scale_fn = self._triangular2_scale_fn\n",
    "                self.scale_mode = 'cycle'\n",
    "            elif self.mode == 'exp_range':\n",
    "                self.scale_fn = self._exp_range_scale_fn\n",
    "                self.scale_mode = 'iterations'\n",
    "        else:\n",
    "            self.scale_fn = scale_fn\n",
    "            self.scale_mode = scale_mode\n",
    "\n",
    "        self.batch_step(last_batch_iteration + 1)\n",
    "        self.last_batch_iteration = last_batch_iteration\n",
    "\n",
    "    def batch_step(self, batch_iteration=None):\n",
    "        if batch_iteration is None:\n",
    "            batch_iteration = self.last_batch_iteration + 1\n",
    "        self.last_batch_iteration = batch_iteration\n",
    "        for param_group, lr in zip(self.optimizer.param_groups, self.get_lr()):\n",
    "            param_group['lr'] = lr\n",
    "\n",
    "    def _triangular_scale_fn(self, x):\n",
    "        return 1.\n",
    "\n",
    "    def _triangular2_scale_fn(self, x):\n",
    "        return 1 / (2. ** (x - 1))\n",
    "\n",
    "    def _exp_range_scale_fn(self, x):\n",
    "        return self.gamma**(x)\n",
    "\n",
    "    def get_lr(self):\n",
    "        step_size = float(self.step_size)\n",
    "        cycle = np.floor(1 + self.last_batch_iteration / (2 * step_size))\n",
    "        x = np.abs(self.last_batch_iteration / step_size - 2 * cycle + 1)\n",
    "\n",
    "        lrs = []\n",
    "        param_lrs = zip(self.optimizer.param_groups, self.base_lrs, self.max_lrs)\n",
    "        for param_group, base_lr, max_lr in param_lrs:\n",
    "            base_height = (max_lr - base_lr) * np.maximum(0, (1 - x))\n",
    "            if self.scale_mode == 'cycle':\n",
    "                lr = base_lr + base_height * self.scale_fn(cycle)\n",
    "            else:\n",
    "                lr = base_lr + base_height * self.scale_fn(self.last_batch_iteration)\n",
    "            lrs.append(lr)\n",
    "        return lrs\n"
   ]
  }
 ],
 "metadata": {
  "kernelspec": {
   "display_name": "Python 3",
   "language": "python",
   "name": "python3"
  },
  "language_info": {
   "codemirror_mode": {
    "name": "ipython",
    "version": 3
   },
   "file_extension": ".py",
   "mimetype": "text/x-python",
   "name": "python",
   "nbconvert_exporter": "python",
   "pygments_lexer": "ipython3",
   "version": "3.8.5"
  }
 },
 "nbformat": 4,
 "nbformat_minor": 4
}
